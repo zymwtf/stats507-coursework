{
 "cells": [
  {
   "cell_type": "code",
   "execution_count": 2,
   "id": "9767df0f-2da5-496c-8841-6c3ef46ca2e0",
   "metadata": {},
   "outputs": [],
   "source": [
    "import os\n",
    "import zipfile\n",
    "import requests\n",
    "\n",
    "def download_file(url, save_path):\n",
    "    response = requests.get(url, stream=True)\n",
    "    with open(save_path, 'wb') as file:\n",
    "        for chunk in response.iter_content(chunk_size=1024):\n",
    "            if chunk:\n",
    "                file.write(chunk)\n",
    "\n",
    "def unzip(zip_file_path, extract_to):\n",
    "    with zipfile.ZipFile(zip_file_path, 'r') as zip_ref:\n",
    "        for member in zip_ref.infolist():\n",
    "            zip_ref.extract(member, extract_to)\n",
    "\n",
    "if not os.path.exists('./data.zip'):\n",
    "    download_file(\n",
    "        'https://www.modelscope.cn/datasets/Genius-Society/svhn/resolve/master/data/svhn.zip',\n",
    "        'data.zip'\n",
    "    )\n",
    "\n",
    "if not os.path.exists('./data'):\n",
    "    unzip('data.zip', './')\n"
   ]
  },
  {
   "cell_type": "code",
   "execution_count": null,
   "id": "ac08ef9a-d621-450e-81ef-88342c6e5f4f",
   "metadata": {},
   "outputs": [],
   "source": []
  }
 ],
 "metadata": {
  "kernelspec": {
   "display_name": "Python 3 (ipykernel)",
   "language": "python",
   "name": "python3"
  },
  "language_info": {
   "codemirror_mode": {
    "name": "ipython",
    "version": 3
   },
   "file_extension": ".py",
   "mimetype": "text/x-python",
   "name": "python",
   "nbconvert_exporter": "python",
   "pygments_lexer": "ipython3",
   "version": "3.12.4"
  }
 },
 "nbformat": 4,
 "nbformat_minor": 5
}
